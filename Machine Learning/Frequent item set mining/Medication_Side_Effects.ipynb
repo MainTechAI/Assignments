{
 "cells": [
  {
   "cell_type": "code",
   "execution_count": 1,
   "id": "informed-occupation",
   "metadata": {},
   "outputs": [],
   "source": [
    "import pandas as pd\n",
    "import numpy as np\n",
    "import sys\n",
    "from itertools import combinations, groupby\n",
    "from collections import Counter\n",
    "from IPython.display import display\n",
    "import json\n",
    "from fim import apriori, fpgrowth, eclat\n",
    "import matplotlib.pyplot as plt\n",
    "import time"
   ]
  },
  {
   "cell_type": "code",
   "execution_count": null,
   "id": "underlying-listing",
   "metadata": {},
   "outputs": [],
   "source": [
    "# Source of dataset - http://sideeffects.embl.de/download/\n",
    "# SIDER contains information on marketed medicines and their recorded adverse drug reactions."
   ]
  },
  {
   "cell_type": "markdown",
   "id": "quality-abraham",
   "metadata": {},
   "source": [
    "# Data preparation"
   ]
  },
  {
   "cell_type": "code",
   "execution_count": 3,
   "id": "killing-accountability",
   "metadata": {},
   "outputs": [],
   "source": [
    "id_ATC = pd.read_csv('./side_effects/drug_atc.tsv', sep='\\t', header=None, names=['id', 'ATC'])"
   ]
  },
  {
   "cell_type": "code",
   "execution_count": 4,
   "id": "involved-helping",
   "metadata": {},
   "outputs": [],
   "source": [
    "drugs = pd.read_csv('./side_effects/drug_atc.tsv', sep='\\t', header=None, names=['id', 'ATC']).merge(pd.read_csv('./side_effects/drug_names.tsv', sep='\\t', header=None, names=['id', 'name']) )"
   ]
  },
  {
   "cell_type": "code",
   "execution_count": 5,
   "id": "violent-guarantee",
   "metadata": {},
   "outputs": [
    {
     "data": {
      "text/html": [
       "<div>\n",
       "<style scoped>\n",
       "    .dataframe tbody tr th:only-of-type {\n",
       "        vertical-align: middle;\n",
       "    }\n",
       "\n",
       "    .dataframe tbody tr th {\n",
       "        vertical-align: top;\n",
       "    }\n",
       "\n",
       "    .dataframe thead th {\n",
       "        text-align: right;\n",
       "    }\n",
       "</style>\n",
       "<table border=\"1\" class=\"dataframe\">\n",
       "  <thead>\n",
       "    <tr style=\"text-align: right;\">\n",
       "      <th></th>\n",
       "      <th>id</th>\n",
       "      <th>name</th>\n",
       "    </tr>\n",
       "  </thead>\n",
       "  <tbody>\n",
       "    <tr>\n",
       "      <th>0</th>\n",
       "      <td>CID100000085</td>\n",
       "      <td>carnitine</td>\n",
       "    </tr>\n",
       "    <tr>\n",
       "      <th>1</th>\n",
       "      <td>CID100000119</td>\n",
       "      <td>gamma-aminobutyric</td>\n",
       "    </tr>\n",
       "    <tr>\n",
       "      <th>2</th>\n",
       "      <td>CID100000137</td>\n",
       "      <td>5-aminolevulinic</td>\n",
       "    </tr>\n",
       "    <tr>\n",
       "      <th>3</th>\n",
       "      <td>CID100000143</td>\n",
       "      <td>leucovorin</td>\n",
       "    </tr>\n",
       "    <tr>\n",
       "      <th>4</th>\n",
       "      <td>CID100000146</td>\n",
       "      <td>5-methyltetrahydrofolate</td>\n",
       "    </tr>\n",
       "    <tr>\n",
       "      <th>...</th>\n",
       "      <td>...</td>\n",
       "      <td>...</td>\n",
       "    </tr>\n",
       "    <tr>\n",
       "      <th>1425</th>\n",
       "      <td>CID156603655</td>\n",
       "      <td>pegaptanib</td>\n",
       "    </tr>\n",
       "    <tr>\n",
       "      <th>1426</th>\n",
       "      <td>CID156842239</td>\n",
       "      <td>n-3</td>\n",
       "    </tr>\n",
       "    <tr>\n",
       "      <th>1427</th>\n",
       "      <td>CID170683024</td>\n",
       "      <td>x</td>\n",
       "    </tr>\n",
       "    <tr>\n",
       "      <th>1428</th>\n",
       "      <td>CID170695640</td>\n",
       "      <td>colestyramine</td>\n",
       "    </tr>\n",
       "    <tr>\n",
       "      <th>1429</th>\n",
       "      <td>CID171306834</td>\n",
       "      <td>K779</td>\n",
       "    </tr>\n",
       "  </tbody>\n",
       "</table>\n",
       "<p>1430 rows × 2 columns</p>\n",
       "</div>"
      ],
      "text/plain": [
       "                id                      name\n",
       "0     CID100000085                 carnitine\n",
       "1     CID100000119        gamma-aminobutyric\n",
       "2     CID100000137          5-aminolevulinic\n",
       "3     CID100000143                leucovorin\n",
       "4     CID100000146  5-methyltetrahydrofolate\n",
       "...            ...                       ...\n",
       "1425  CID156603655                pegaptanib\n",
       "1426  CID156842239                       n-3\n",
       "1427  CID170683024                         x\n",
       "1428  CID170695640             colestyramine\n",
       "1429  CID171306834                      K779\n",
       "\n",
       "[1430 rows x 2 columns]"
      ]
     },
     "execution_count": 5,
     "metadata": {},
     "output_type": "execute_result"
    }
   ],
   "source": [
    "id_name = pd.read_csv('./side_effects/drug_names.tsv', sep='\\t', header=None, names=['id', 'name'])"
   ]
  },
  {
   "cell_type": "code",
   "execution_count": 6,
   "id": "processed-church",
   "metadata": {},
   "outputs": [
    {
     "data": {
      "text/html": [
       "<div>\n",
       "<style scoped>\n",
       "    .dataframe tbody tr th:only-of-type {\n",
       "        vertical-align: middle;\n",
       "    }\n",
       "\n",
       "    .dataframe tbody tr th {\n",
       "        vertical-align: top;\n",
       "    }\n",
       "\n",
       "    .dataframe thead th {\n",
       "        text-align: right;\n",
       "    }\n",
       "</style>\n",
       "<table border=\"1\" class=\"dataframe\">\n",
       "  <thead>\n",
       "    <tr style=\"text-align: right;\">\n",
       "      <th></th>\n",
       "      <th>id_1</th>\n",
       "      <th>id_2</th>\n",
       "      <th>side_effect</th>\n",
       "    </tr>\n",
       "  </thead>\n",
       "  <tbody>\n",
       "    <tr>\n",
       "      <th>0</th>\n",
       "      <td>CID100000085</td>\n",
       "      <td>CID000010917</td>\n",
       "      <td>Abdominal cramps</td>\n",
       "    </tr>\n",
       "    <tr>\n",
       "      <th>1</th>\n",
       "      <td>CID100000085</td>\n",
       "      <td>CID000010917</td>\n",
       "      <td>Abdominal pain</td>\n",
       "    </tr>\n",
       "    <tr>\n",
       "      <th>2</th>\n",
       "      <td>CID100000085</td>\n",
       "      <td>CID000010917</td>\n",
       "      <td>Abdominal pain</td>\n",
       "    </tr>\n",
       "    <tr>\n",
       "      <th>3</th>\n",
       "      <td>CID100000085</td>\n",
       "      <td>CID000010917</td>\n",
       "      <td>Gastrointestinal pain</td>\n",
       "    </tr>\n",
       "    <tr>\n",
       "      <th>4</th>\n",
       "      <td>CID100000085</td>\n",
       "      <td>CID000010917</td>\n",
       "      <td>Abdominal pain</td>\n",
       "    </tr>\n",
       "    <tr>\n",
       "      <th>...</th>\n",
       "      <td>...</td>\n",
       "      <td>...</td>\n",
       "      <td>...</td>\n",
       "    </tr>\n",
       "    <tr>\n",
       "      <th>309844</th>\n",
       "      <td>CID171306834</td>\n",
       "      <td>CID071306834</td>\n",
       "      <td>Respiratory failure</td>\n",
       "    </tr>\n",
       "    <tr>\n",
       "      <th>309845</th>\n",
       "      <td>CID171306834</td>\n",
       "      <td>CID071306834</td>\n",
       "      <td>Abnormal vision</td>\n",
       "    </tr>\n",
       "    <tr>\n",
       "      <th>309846</th>\n",
       "      <td>CID171306834</td>\n",
       "      <td>CID071306834</td>\n",
       "      <td>Visual impairment</td>\n",
       "    </tr>\n",
       "    <tr>\n",
       "      <th>309847</th>\n",
       "      <td>CID171306834</td>\n",
       "      <td>CID071306834</td>\n",
       "      <td>Warts</td>\n",
       "    </tr>\n",
       "    <tr>\n",
       "      <th>309848</th>\n",
       "      <td>CID171306834</td>\n",
       "      <td>CID071306834</td>\n",
       "      <td>Skin papilloma</td>\n",
       "    </tr>\n",
       "  </tbody>\n",
       "</table>\n",
       "<p>309849 rows × 3 columns</p>\n",
       "</div>"
      ],
      "text/plain": [
       "                id_1          id_2            side_effect\n",
       "0       CID100000085  CID000010917       Abdominal cramps\n",
       "1       CID100000085  CID000010917         Abdominal pain\n",
       "2       CID100000085  CID000010917         Abdominal pain\n",
       "3       CID100000085  CID000010917  Gastrointestinal pain\n",
       "4       CID100000085  CID000010917         Abdominal pain\n",
       "...              ...           ...                    ...\n",
       "309844  CID171306834  CID071306834    Respiratory failure\n",
       "309845  CID171306834  CID071306834        Abnormal vision\n",
       "309846  CID171306834  CID071306834      Visual impairment\n",
       "309847  CID171306834  CID071306834                  Warts\n",
       "309848  CID171306834  CID071306834         Skin papilloma\n",
       "\n",
       "[309849 rows x 3 columns]"
      ]
     },
     "execution_count": 6,
     "metadata": {},
     "output_type": "execute_result"
    }
   ],
   "source": [
    "dataset = pd.read_csv('./side_effects/meddra_all_se.tsv', sep='\\t', header=None, \n",
    "            names=['id_1', 'id_2', 'UMLS_id', 'MedDRA_type', 'UMLS_id_for_MedDRA', 'side_effect'])\n",
    "\n",
    "dataset=dataset[['id_1', 'id_2', 'side_effect']]\n",
    "#dataset = dataset['id_1'].map(id_name.set_index('id')['name'])\n",
    "#dataset = dataset['id_2'].map(id_name.set_index('id')['name'])\n",
    "dataset"
   ]
  },
  {
   "cell_type": "code",
   "execution_count": 7,
   "id": "indonesian-charles",
   "metadata": {},
   "outputs": [
    {
     "data": {
      "text/plain": [
       "id_1          id_2        \n",
       "CID100000085  CID000010917    [Abdominal cramps, Abdominal pain, Abdominal p...\n",
       "CID100000119  CID000000119    [Anaphylactic shock, Anaphylactic shock, Angio...\n",
       "CID100000137  CID000000137    [Anaemia, Anaemia, Aphasia, Aphasia, Mental di...\n",
       "CID100000143  CID000000143    [Alopecia, Alopecia, Anorexia, Decreased appet...\n",
       "              CID000006006    [Alopecia, Alopecia, Anorexia, Decreased appet...\n",
       "                                                    ...                        \n",
       "CID156603655  CID056603655    [Anaphylactic shock, Anaphylactic shock, Angio...\n",
       "CID156842239  CID056842239    [Anaphylactic shock, Anaphylactic shock, Const...\n",
       "CID170683024  CID070683024    [Angioedema, Angioedema, Chest pain, Chest pai...\n",
       "CID170695640  CID070695640    [Abdominal pain, Gastrointestinal pain, Abdomi...\n",
       "CID171306834  CID071306834    [Abdominal distension, Abdominal distension, A...\n",
       "Name: side_effect, Length: 1556, dtype: object"
      ]
     },
     "execution_count": 7,
     "metadata": {},
     "output_type": "execute_result"
    }
   ],
   "source": [
    "dataset = dataset.groupby(['id_1','id_2'])['side_effect'].apply(list)\n",
    "dataset\n",
    "#.to_csv('12345.csv', index=False)"
   ]
  },
  {
   "cell_type": "code",
   "execution_count": 8,
   "id": "imported-problem",
   "metadata": {},
   "outputs": [],
   "source": [
    "#drugs_id_and_side_effects = dataset.to_frame().reset_index().values"
   ]
  },
  {
   "cell_type": "code",
   "execution_count": 9,
   "id": "chinese-bikini",
   "metadata": {},
   "outputs": [],
   "source": [
    "transactions = []\n",
    "for item in dataset.values:\n",
    "    transactions.append(list(set(item)))"
   ]
  },
  {
   "cell_type": "code",
   "execution_count": 10,
   "id": "cathedral-apparel",
   "metadata": {},
   "outputs": [
    {
     "data": {
      "text/plain": [
       "[['Palpitations',\n",
       "  'Vomiting',\n",
       "  'Muscular weakness',\n",
       "  'Dyspnoea',\n",
       "  'Gastritis',\n",
       "  'Decreased appetite',\n",
       "  'Anorexia',\n",
       "  'Myasthenia',\n",
       "  'Pain',\n",
       "  'Gastrointestinal disorder',\n",
       "  'Hyperkalaemia',\n",
       "  'Weight increased',\n",
       "  'Paraesthesia',\n",
       "  'Injury',\n",
       "  'Skin odour abnormal',\n",
       "  'Renal failure',\n",
       "  'Rash',\n",
       "  'Anaemia',\n",
       "  'Gastric atony',\n",
       "  'Angiopathy',\n",
       "  'Abdominal pain',\n",
       "  'Urinary tract infection',\n",
       "  'Hypotension',\n",
       "  'Melaena',\n",
       "  'Body odor',\n",
       "  'Diarrhoea',\n",
       "  'Infection',\n",
       "  'Haemorrhage',\n",
       "  'Fluid overload',\n",
       "  'Dyspepsia',\n",
       "  'Dysgeusia',\n",
       "  'Parathyroid disorder',\n",
       "  'Cough',\n",
       "  'Haemoglobin',\n",
       "  'Amblyopia',\n",
       "  'Back pain',\n",
       "  'Rhinitis',\n",
       "  'Hypertonia',\n",
       "  'Chest pain',\n",
       "  'Injection site reaction',\n",
       "  'Sinusitis',\n",
       "  'Influenza',\n",
       "  'Depression',\n",
       "  'Dermatitis',\n",
       "  'Insomnia',\n",
       "  'Hypercalcaemia',\n",
       "  'Vertigo',\n",
       "  'Musculoskeletal discomfort',\n",
       "  'Hypertension',\n",
       "  'Abdominal cramps',\n",
       "  'Eye disorder',\n",
       "  'Gastrointestinal pain',\n",
       "  'Constipation',\n",
       "  'Pruritus',\n",
       "  'Headache',\n",
       "  'Tachycardia',\n",
       "  'Cardiovascular disorder',\n",
       "  'Nausea',\n",
       "  'Atrial fibrillation',\n",
       "  'Cramps of lower extremities',\n",
       "  'Impaired gastric emptying',\n",
       "  'Myalgia',\n",
       "  'Drug dependence',\n",
       "  'Hypersensitivity',\n",
       "  'Muscle spasms',\n",
       "  'Gastrointestinal symptom NOS',\n",
       "  'Accidental injury',\n",
       "  'Arrhythmia',\n",
       "  'Oedema peripheral',\n",
       "  'Anxiety',\n",
       "  'Body temperature increased',\n",
       "  'Weight decreased',\n",
       "  'Dizziness',\n",
       "  'Pharyngitis',\n",
       "  'Bronchitis',\n",
       "  'Asthenia',\n",
       "  'Electrocardiogram abnormal',\n",
       "  'Convulsion'],\n",
       " ['Angioedema',\n",
       "  'Urticaria',\n",
       "  'Injection site pain',\n",
       "  'Injection site tenderness',\n",
       "  'Pain',\n",
       "  'Anaphylactic shock'],\n",
       " ['Discomfort',\n",
       "  'Vomiting',\n",
       "  'Skin exfoliation',\n",
       "  'Acne',\n",
       "  'Welts',\n",
       "  'Wound secretion',\n",
       "  'Thrombocytopenia',\n",
       "  'Accidental ingestion',\n",
       "  'Nervous system disorder',\n",
       "  'Blood amylase increased',\n",
       "  'Respiratory insufficiency',\n",
       "  'Rash maculo-papular',\n",
       "  'Pain',\n",
       "  'Gastrointestinal disorder',\n",
       "  'Paraesthesia',\n",
       "  'Chills',\n",
       "  'Photosensitivity',\n",
       "  'Urticaria',\n",
       "  'Skin hyperpigmentation',\n",
       "  'Rash',\n",
       "  'Anaemia',\n",
       "  'Gamma-glutamyltransferase increased',\n",
       "  'Angiopathy',\n",
       "  'Hepatobiliary disease',\n",
       "  'Hypoaesthesia',\n",
       "  'Neoplasm',\n",
       "  'Amylase increased',\n",
       "  'Dry skin',\n",
       "  'Hemiparesis',\n",
       "  'Hypotension',\n",
       "  'Dysaesthesia',\n",
       "  'Diarrhoea',\n",
       "  'Infection',\n",
       "  'Haemorrhage',\n",
       "  'Rash pustular',\n",
       "  'Oedema',\n",
       "  'Infestation',\n",
       "  'Nervousness',\n",
       "  'Haemoglobin',\n",
       "  'Petechiae',\n",
       "  'Application site irritation',\n",
       "  'Stinging',\n",
       "  'Blood bilirubin increased',\n",
       "  'Induration',\n",
       "  'Photosensitivity reaction',\n",
       "  'Leukocytosis',\n",
       "  'Alanine aminotransferase increased',\n",
       "  'Application site reaction',\n",
       "  'Erythema',\n",
       "  'Photodamaged skin',\n",
       "  'Dermatitis',\n",
       "  'Thromboembolism',\n",
       "  'Unspecified disorder of skin and subcutaneous tissue',\n",
       "  'Infestation NOS',\n",
       "  'Cardiac disorder',\n",
       "  'Skin cancer',\n",
       "  'Herpes simplex',\n",
       "  'Pustule',\n",
       "  'Photodermatosis',\n",
       "  'Scab',\n",
       "  'Aspartate aminotransferase increased',\n",
       "  'Eyelid oedema',\n",
       "  'Sunburn',\n",
       "  'Eye disorder',\n",
       "  'Tension',\n",
       "  'Seborrhoeic dermatitis',\n",
       "  'Embolism',\n",
       "  'Aphasia',\n",
       "  'Glioma',\n",
       "  'Pruritus',\n",
       "  'Respiratory failure',\n",
       "  'Headache',\n",
       "  'Feeling hot',\n",
       "  'Brain oedema',\n",
       "  'Mental disorder',\n",
       "  'Excoriation',\n",
       "  'Nausea',\n",
       "  'Skin carcinoma',\n",
       "  'Hyperpathia',\n",
       "  'Skin disorder',\n",
       "  'Hyperaesthesia',\n",
       "  'Hemianopia',\n",
       "  'Skin tightness',\n",
       "  'Hyperkeratosis',\n",
       "  'Ulcer',\n",
       "  'Brain neoplasm',\n",
       "  'Body temperature increased',\n",
       "  'Blood and lymphatic system disorders',\n",
       "  'Accidental exposure to product',\n",
       "  'Embolism venous',\n",
       "  'Leukoderma',\n",
       "  'Skin hypertrophy',\n",
       "  'Tenderness',\n",
       "  'Warmth',\n",
       "  'Convulsion'],\n",
       " ['Discomfort',\n",
       "  'Serum creatinine increased',\n",
       "  'Vomiting',\n",
       "  'Diarrhoea',\n",
       "  'Infection',\n",
       "  'Nausea',\n",
       "  'Dermatitis',\n",
       "  'Ill-defined disorder',\n",
       "  'Febrile neutropenia',\n",
       "  'Decreased appetite',\n",
       "  'Thrombocytopenia',\n",
       "  'Anaphylactoid reaction',\n",
       "  'Anorexia',\n",
       "  'Lethargy',\n",
       "  'Hypersensitivity',\n",
       "  'Renal failure acute',\n",
       "  'Stomatitis',\n",
       "  'Urticaria',\n",
       "  'Rash',\n",
       "  'Acute kidney injury',\n",
       "  'Leukopenia',\n",
       "  'Anaphylactic shock',\n",
       "  'Constipation',\n",
       "  'Blood creatinine increased',\n",
       "  'Asthenia',\n",
       "  'Alopecia',\n",
       "  'Fatigue',\n",
       "  'Pruritus',\n",
       "  'Malaise',\n",
       "  'Sensitisation',\n",
       "  'Wheezing',\n",
       "  'Feeling abnormal',\n",
       "  'Extravasation',\n",
       "  'Convulsion',\n",
       "  'Erythema']]"
      ]
     },
     "execution_count": 10,
     "metadata": {},
     "output_type": "execute_result"
    }
   ],
   "source": [
    "transactions[0:4]"
   ]
  },
  {
   "cell_type": "markdown",
   "id": "established-cardiff",
   "metadata": {},
   "source": [
    "## Done"
   ]
  },
  {
   "cell_type": "code",
   "execution_count": 39,
   "id": "signed-peeing",
   "metadata": {},
   "outputs": [],
   "source": [
    "pd.set_option(\"max_colwidth\", 150)"
   ]
  },
  {
   "cell_type": "code",
   "execution_count": 40,
   "id": "opened-lesson",
   "metadata": {},
   "outputs": [],
   "source": [
    "support=50\n",
    "confidence=70 # don't need here\n",
    "target='all'\n",
    "zmin=2"
   ]
  },
  {
   "cell_type": "markdown",
   "id": "opposed-pressing",
   "metadata": {},
   "source": [
    "# Apriori"
   ]
  },
  {
   "cell_type": "code",
   "execution_count": 41,
   "id": "approximate-forward",
   "metadata": {},
   "outputs": [
    {
     "name": "stdout",
     "output_type": "stream",
     "text": [
      "0.021311898000021756\n"
     ]
    }
   ],
   "source": [
    "start=time.perf_counter()\n",
    "fi_apriori = apriori(tracts=transactions, target=target, supp=support, conf=confidence, zmin=zmin)\n",
    "end=time.perf_counter()\n",
    "print(end-start)"
   ]
  },
  {
   "cell_type": "code",
   "execution_count": 42,
   "id": "honey-teddy",
   "metadata": {
    "scrolled": false
   },
   "outputs": [
    {
     "data": {
      "text/html": [
       "<div>\n",
       "<style scoped>\n",
       "    .dataframe tbody tr th:only-of-type {\n",
       "        vertical-align: middle;\n",
       "    }\n",
       "\n",
       "    .dataframe tbody tr th {\n",
       "        vertical-align: top;\n",
       "    }\n",
       "\n",
       "    .dataframe thead th {\n",
       "        text-align: right;\n",
       "    }\n",
       "</style>\n",
       "<table border=\"1\" class=\"dataframe\">\n",
       "  <thead>\n",
       "    <tr style=\"text-align: right;\">\n",
       "      <th></th>\n",
       "      <th>0</th>\n",
       "      <th>1</th>\n",
       "    </tr>\n",
       "  </thead>\n",
       "  <tbody>\n",
       "    <tr>\n",
       "      <th>0</th>\n",
       "      <td>(Rash, Dermatitis)</td>\n",
       "      <td>1158</td>\n",
       "    </tr>\n",
       "    <tr>\n",
       "      <th>1</th>\n",
       "      <td>(Vomiting, Nausea)</td>\n",
       "      <td>1150</td>\n",
       "    </tr>\n",
       "    <tr>\n",
       "      <th>2</th>\n",
       "      <td>(Headache, Nausea)</td>\n",
       "      <td>1103</td>\n",
       "    </tr>\n",
       "    <tr>\n",
       "      <th>3</th>\n",
       "      <td>(Dermatitis, Nausea)</td>\n",
       "      <td>1069</td>\n",
       "    </tr>\n",
       "    <tr>\n",
       "      <th>4</th>\n",
       "      <td>(Rash, Nausea)</td>\n",
       "      <td>1069</td>\n",
       "    </tr>\n",
       "    <tr>\n",
       "      <th>...</th>\n",
       "      <td>...</td>\n",
       "      <td>...</td>\n",
       "    </tr>\n",
       "    <tr>\n",
       "      <th>167</th>\n",
       "      <td>(Asthenia, Vomiting, Dermatitis)</td>\n",
       "      <td>779</td>\n",
       "    </tr>\n",
       "    <tr>\n",
       "      <th>168</th>\n",
       "      <td>(Gastrointestinal pain, Vomiting, Nausea)</td>\n",
       "      <td>779</td>\n",
       "    </tr>\n",
       "    <tr>\n",
       "      <th>169</th>\n",
       "      <td>(Diarrhoea, Vomiting, Rash, Headache, Nausea)</td>\n",
       "      <td>778</td>\n",
       "    </tr>\n",
       "    <tr>\n",
       "      <th>170</th>\n",
       "      <td>(Pruritus, Rash, Dermatitis, Headache)</td>\n",
       "      <td>778</td>\n",
       "    </tr>\n",
       "    <tr>\n",
       "      <th>171</th>\n",
       "      <td>(Asthenia, Dizziness, Dermatitis)</td>\n",
       "      <td>778</td>\n",
       "    </tr>\n",
       "  </tbody>\n",
       "</table>\n",
       "<p>172 rows × 2 columns</p>\n",
       "</div>"
      ],
      "text/plain": [
       "                                                 0     1\n",
       "0                               (Rash, Dermatitis)  1158\n",
       "1                               (Vomiting, Nausea)  1150\n",
       "2                               (Headache, Nausea)  1103\n",
       "3                             (Dermatitis, Nausea)  1069\n",
       "4                                   (Rash, Nausea)  1069\n",
       "..                                             ...   ...\n",
       "167               (Asthenia, Vomiting, Dermatitis)   779\n",
       "168      (Gastrointestinal pain, Vomiting, Nausea)   779\n",
       "169  (Diarrhoea, Vomiting, Rash, Headache, Nausea)   778\n",
       "170         (Pruritus, Rash, Dermatitis, Headache)   778\n",
       "171              (Asthenia, Dizziness, Dermatitis)   778\n",
       "\n",
       "[172 rows x 2 columns]"
      ]
     },
     "execution_count": 42,
     "metadata": {},
     "output_type": "execute_result"
    }
   ],
   "source": [
    "df_apriori = pd.DataFrame.from_records(fi_apriori).sort_values(by=[1],ascending=False).reset_index(drop=True)\n",
    "df_apriori"
   ]
  },
  {
   "cell_type": "markdown",
   "id": "documented-catholic",
   "metadata": {},
   "source": [
    "# FP-Growth"
   ]
  },
  {
   "cell_type": "code",
   "execution_count": 43,
   "id": "later-milan",
   "metadata": {},
   "outputs": [
    {
     "name": "stdout",
     "output_type": "stream",
     "text": [
      "0.019804991999990307\n"
     ]
    }
   ],
   "source": [
    "start=time.perf_counter()\n",
    "fi_fpgrowth = fpgrowth(tracts=transactions, target=target, supp=support, conf=confidence, zmin=zmin)\n",
    "end=time.perf_counter()\n",
    "print(end-start)"
   ]
  },
  {
   "cell_type": "code",
   "execution_count": 44,
   "id": "passing-establishment",
   "metadata": {},
   "outputs": [
    {
     "data": {
      "text/html": [
       "<div>\n",
       "<style scoped>\n",
       "    .dataframe tbody tr th:only-of-type {\n",
       "        vertical-align: middle;\n",
       "    }\n",
       "\n",
       "    .dataframe tbody tr th {\n",
       "        vertical-align: top;\n",
       "    }\n",
       "\n",
       "    .dataframe thead th {\n",
       "        text-align: right;\n",
       "    }\n",
       "</style>\n",
       "<table border=\"1\" class=\"dataframe\">\n",
       "  <thead>\n",
       "    <tr style=\"text-align: right;\">\n",
       "      <th></th>\n",
       "      <th>0</th>\n",
       "      <th>1</th>\n",
       "    </tr>\n",
       "  </thead>\n",
       "  <tbody>\n",
       "    <tr>\n",
       "      <th>0</th>\n",
       "      <td>(Rash, Dermatitis)</td>\n",
       "      <td>1158</td>\n",
       "    </tr>\n",
       "    <tr>\n",
       "      <th>1</th>\n",
       "      <td>(Vomiting, Nausea)</td>\n",
       "      <td>1150</td>\n",
       "    </tr>\n",
       "    <tr>\n",
       "      <th>2</th>\n",
       "      <td>(Headache, Nausea)</td>\n",
       "      <td>1103</td>\n",
       "    </tr>\n",
       "    <tr>\n",
       "      <th>3</th>\n",
       "      <td>(Dermatitis, Nausea)</td>\n",
       "      <td>1069</td>\n",
       "    </tr>\n",
       "    <tr>\n",
       "      <th>4</th>\n",
       "      <td>(Rash, Nausea)</td>\n",
       "      <td>1069</td>\n",
       "    </tr>\n",
       "    <tr>\n",
       "      <th>...</th>\n",
       "      <td>...</td>\n",
       "      <td>...</td>\n",
       "    </tr>\n",
       "    <tr>\n",
       "      <th>167</th>\n",
       "      <td>(Diarrhoea, Vomiting, Rash, Dermatitis, Headache)</td>\n",
       "      <td>779</td>\n",
       "    </tr>\n",
       "    <tr>\n",
       "      <th>168</th>\n",
       "      <td>(Hypersensitivity, Dizziness)</td>\n",
       "      <td>779</td>\n",
       "    </tr>\n",
       "    <tr>\n",
       "      <th>169</th>\n",
       "      <td>(Pruritus, Rash, Dermatitis, Headache)</td>\n",
       "      <td>778</td>\n",
       "    </tr>\n",
       "    <tr>\n",
       "      <th>170</th>\n",
       "      <td>(Diarrhoea, Vomiting, Rash, Headache, Nausea)</td>\n",
       "      <td>778</td>\n",
       "    </tr>\n",
       "    <tr>\n",
       "      <th>171</th>\n",
       "      <td>(Asthenia, Dizziness, Dermatitis)</td>\n",
       "      <td>778</td>\n",
       "    </tr>\n",
       "  </tbody>\n",
       "</table>\n",
       "<p>172 rows × 2 columns</p>\n",
       "</div>"
      ],
      "text/plain": [
       "                                                     0     1\n",
       "0                                   (Rash, Dermatitis)  1158\n",
       "1                                   (Vomiting, Nausea)  1150\n",
       "2                                   (Headache, Nausea)  1103\n",
       "3                                 (Dermatitis, Nausea)  1069\n",
       "4                                       (Rash, Nausea)  1069\n",
       "..                                                 ...   ...\n",
       "167  (Diarrhoea, Vomiting, Rash, Dermatitis, Headache)   779\n",
       "168                      (Hypersensitivity, Dizziness)   779\n",
       "169             (Pruritus, Rash, Dermatitis, Headache)   778\n",
       "170      (Diarrhoea, Vomiting, Rash, Headache, Nausea)   778\n",
       "171                  (Asthenia, Dizziness, Dermatitis)   778\n",
       "\n",
       "[172 rows x 2 columns]"
      ]
     },
     "execution_count": 44,
     "metadata": {},
     "output_type": "execute_result"
    }
   ],
   "source": [
    "df_fpgrowth = pd.DataFrame.from_records(fi_fpgrowth).sort_values(by=[1],ascending=False).reset_index(drop=True)\n",
    "df_fpgrowth"
   ]
  },
  {
   "cell_type": "markdown",
   "id": "missing-oxide",
   "metadata": {},
   "source": [
    "# ECLAT"
   ]
  },
  {
   "cell_type": "code",
   "execution_count": 45,
   "id": "level-channels",
   "metadata": {},
   "outputs": [
    {
     "name": "stdout",
     "output_type": "stream",
     "text": [
      "0.01995872599991344\n"
     ]
    }
   ],
   "source": [
    "start=time.perf_counter()\n",
    "fi_eclat = eclat(tracts=transactions, target=target, supp=support, conf=confidence, zmin=zmin)\n",
    "end=time.perf_counter()\n",
    "print(end-start)"
   ]
  },
  {
   "cell_type": "code",
   "execution_count": 46,
   "id": "hollow-special",
   "metadata": {},
   "outputs": [
    {
     "data": {
      "text/html": [
       "<div>\n",
       "<style scoped>\n",
       "    .dataframe tbody tr th:only-of-type {\n",
       "        vertical-align: middle;\n",
       "    }\n",
       "\n",
       "    .dataframe tbody tr th {\n",
       "        vertical-align: top;\n",
       "    }\n",
       "\n",
       "    .dataframe thead th {\n",
       "        text-align: right;\n",
       "    }\n",
       "</style>\n",
       "<table border=\"1\" class=\"dataframe\">\n",
       "  <thead>\n",
       "    <tr style=\"text-align: right;\">\n",
       "      <th></th>\n",
       "      <th>0</th>\n",
       "      <th>1</th>\n",
       "    </tr>\n",
       "  </thead>\n",
       "  <tbody>\n",
       "    <tr>\n",
       "      <th>0</th>\n",
       "      <td>(Rash, Dermatitis)</td>\n",
       "      <td>1158</td>\n",
       "    </tr>\n",
       "    <tr>\n",
       "      <th>1</th>\n",
       "      <td>(Vomiting, Nausea)</td>\n",
       "      <td>1150</td>\n",
       "    </tr>\n",
       "    <tr>\n",
       "      <th>2</th>\n",
       "      <td>(Headache, Nausea)</td>\n",
       "      <td>1103</td>\n",
       "    </tr>\n",
       "    <tr>\n",
       "      <th>3</th>\n",
       "      <td>(Rash, Nausea)</td>\n",
       "      <td>1069</td>\n",
       "    </tr>\n",
       "    <tr>\n",
       "      <th>4</th>\n",
       "      <td>(Dermatitis, Nausea)</td>\n",
       "      <td>1069</td>\n",
       "    </tr>\n",
       "    <tr>\n",
       "      <th>...</th>\n",
       "      <td>...</td>\n",
       "      <td>...</td>\n",
       "    </tr>\n",
       "    <tr>\n",
       "      <th>167</th>\n",
       "      <td>(Gastrointestinal pain, Vomiting, Nausea)</td>\n",
       "      <td>779</td>\n",
       "    </tr>\n",
       "    <tr>\n",
       "      <th>168</th>\n",
       "      <td>(Diarrhoea, Rash, Dermatitis, Headache, Vomiting)</td>\n",
       "      <td>779</td>\n",
       "    </tr>\n",
       "    <tr>\n",
       "      <th>169</th>\n",
       "      <td>(Pruritus, Headache, Rash, Dermatitis)</td>\n",
       "      <td>778</td>\n",
       "    </tr>\n",
       "    <tr>\n",
       "      <th>170</th>\n",
       "      <td>(Asthenia, Dermatitis, Dizziness)</td>\n",
       "      <td>778</td>\n",
       "    </tr>\n",
       "    <tr>\n",
       "      <th>171</th>\n",
       "      <td>(Diarrhoea, Rash, Headache, Vomiting, Nausea)</td>\n",
       "      <td>778</td>\n",
       "    </tr>\n",
       "  </tbody>\n",
       "</table>\n",
       "<p>172 rows × 2 columns</p>\n",
       "</div>"
      ],
      "text/plain": [
       "                                                     0     1\n",
       "0                                   (Rash, Dermatitis)  1158\n",
       "1                                   (Vomiting, Nausea)  1150\n",
       "2                                   (Headache, Nausea)  1103\n",
       "3                                       (Rash, Nausea)  1069\n",
       "4                                 (Dermatitis, Nausea)  1069\n",
       "..                                                 ...   ...\n",
       "167          (Gastrointestinal pain, Vomiting, Nausea)   779\n",
       "168  (Diarrhoea, Rash, Dermatitis, Headache, Vomiting)   779\n",
       "169             (Pruritus, Headache, Rash, Dermatitis)   778\n",
       "170                  (Asthenia, Dermatitis, Dizziness)   778\n",
       "171      (Diarrhoea, Rash, Headache, Vomiting, Nausea)   778\n",
       "\n",
       "[172 rows x 2 columns]"
      ]
     },
     "execution_count": 46,
     "metadata": {},
     "output_type": "execute_result"
    }
   ],
   "source": [
    "df_fi_eclat = pd.DataFrame.from_records(fi_eclat).sort_values(by=[1],ascending=False).reset_index(drop=True)\n",
    "df_fi_eclat"
   ]
  },
  {
   "cell_type": "markdown",
   "id": "packed-visitor",
   "metadata": {},
   "source": [
    "## Frequent item sets"
   ]
  },
  {
   "cell_type": "code",
   "execution_count": 51,
   "id": "authorized-claim",
   "metadata": {},
   "outputs": [
    {
     "data": {
      "text/plain": [
       "[[('Rash', 'Dermatitis'), 1158],\n",
       " [('Vomiting', 'Nausea'), 1150],\n",
       " [('Headache', 'Nausea'), 1103],\n",
       " [('Rash', 'Nausea'), 1069],\n",
       " [('Dermatitis', 'Nausea'), 1069],\n",
       " [('Rash', 'Dermatitis', 'Nausea'), 1054],\n",
       " [('Dizziness', 'Nausea'), 1049],\n",
       " [('Dizziness', 'Headache'), 1030],\n",
       " [('Diarrhoea', 'Nausea'), 1021],\n",
       " [('Vomiting', 'Headache'), 996],\n",
       " [('Dermatitis', 'Headache'), 994],\n",
       " [('Rash', 'Headache'), 989],\n",
       " [('Vomiting', 'Dermatitis'), 986],\n",
       " [('Vomiting', 'Headache', 'Nausea'), 985],\n",
       " [('Vomiting', 'Rash'), 982],\n",
       " [('Rash', 'Dermatitis', 'Headache'), 979],\n",
       " [('Dizziness', 'Headache', 'Nausea'), 976],\n",
       " [('Vomiting', 'Dermatitis', 'Nausea'), 975],\n",
       " [('Vomiting', 'Rash', 'Nausea'), 972],\n",
       " [('Vomiting', 'Rash', 'Dermatitis'), 971],\n",
       " [('Diarrhoea', 'Vomiting'), 964],\n",
       " [('Vomiting', 'Rash', 'Dermatitis', 'Nausea'), 961],\n",
       " [('Diarrhoea', 'Vomiting', 'Nausea'), 956],\n",
       " [('Dizziness', 'Vomiting'), 952],\n",
       " [('Dermatitis', 'Headache', 'Nausea'), 946],\n",
       " [('Dizziness', 'Dermatitis'), 946],\n",
       " [('Dizziness', 'Vomiting', 'Nausea'), 944],\n",
       " [('Rash', 'Headache', 'Nausea'), 942],\n",
       " [('Dizziness', 'Rash'), 942],\n",
       " [('Rash', 'Dermatitis', 'Headache', 'Nausea'), 934],\n",
       " [('Diarrhoea', 'Headache'), 933],\n",
       " [('Dizziness', 'Rash', 'Dermatitis'), 933],\n",
       " [('Asthenia', 'Nausea'), 924],\n",
       " [('Diarrhoea', 'Dermatitis'), 920],\n",
       " [('Pruritus', 'Nausea'), 917],\n",
       " [('Diarrhoea', 'Rash'), 915],\n",
       " [('Pruritus', 'Dermatitis'), 912],\n",
       " [('Dizziness', 'Dermatitis', 'Nausea'), 907],\n",
       " [('Diarrhoea', 'Rash', 'Dermatitis'), 906],\n",
       " [('Diarrhoea', 'Headache', 'Nausea'), 904],\n",
       " [('Dizziness', 'Rash', 'Nausea'), 904],\n",
       " [('Diarrhoea', 'Dermatitis', 'Nausea'), 901],\n",
       " [('Pruritus', 'Rash'), 897],\n",
       " [('Diarrhoea', 'Rash', 'Nausea'), 896],\n",
       " [('Dizziness', 'Rash', 'Dermatitis', 'Nausea'), 896],\n",
       " [('Asthenia', 'Headache'), 895],\n",
       " [('Dizziness', 'Vomiting', 'Headache'), 892],\n",
       " [('Pruritus', 'Rash', 'Dermatitis'), 889],\n",
       " [('Diarrhoea', 'Rash', 'Dermatitis', 'Nausea'), 888],\n",
       " [('Dizziness', 'Dermatitis', 'Headache'), 886],\n",
       " [('Dizziness', 'Vomiting', 'Headache', 'Nausea'), 885],\n",
       " [('Diarrhoea', 'Dizziness'), 884],\n",
       " [('Dizziness', 'Rash', 'Headache'), 881],\n",
       " [('Hypersensitivity', 'Nausea'), 879],\n",
       " [('Asthenia', 'Dizziness'), 878],\n",
       " [('Vomiting', 'Dermatitis', 'Headache'), 877],\n",
       " [('Dizziness', 'Rash', 'Dermatitis', 'Headache'), 874],\n",
       " [('Vomiting', 'Dermatitis', 'Headache', 'Nausea'), 871],\n",
       " [('Vomiting', 'Rash', 'Headache'), 871],\n",
       " [('Pruritus', 'Headache'), 870],\n",
       " [('Vomiting', 'Rash', 'Dermatitis', 'Headache'), 866],\n",
       " [('Vomiting', 'Rash', 'Headache', 'Nausea'), 865],\n",
       " [('Asthenia', 'Vomiting'), 863],\n",
       " [('Diarrhoea', 'Dizziness', 'Nausea'), 861],\n",
       " [('Diarrhoea', 'Dermatitis', 'Vomiting'), 861],\n",
       " [('Vomiting', 'Rash', 'Dermatitis', 'Headache', 'Nausea'), 860],\n",
       " [('Abdominal pain', 'Nausea'), 858],\n",
       " [('Diarrhoea', 'Rash', 'Vomiting'), 856],\n",
       " [('Dizziness', 'Dermatitis', 'Headache', 'Nausea'), 856],\n",
       " [('Diarrhoea', 'Headache', 'Vomiting'), 856],\n",
       " [('Diarrhoea', 'Dermatitis', 'Vomiting', 'Nausea'), 855],\n",
       " [('Asthenia', 'Headache', 'Nausea'), 855],\n",
       " [('Asthenia', 'Vomiting', 'Nausea'), 855],\n",
       " [('Dizziness', 'Rash', 'Headache', 'Nausea'), 852],\n",
       " [('Diarrhoea', 'Rash', 'Vomiting', 'Nausea'), 851],\n",
       " [('Pruritus', 'Vomiting'), 851],\n",
       " [('Diarrhoea', 'Headache', 'Vomiting', 'Nausea'), 850],\n",
       " [('Diarrhoea', 'Rash', 'Dermatitis', 'Vomiting'), 848],\n",
       " [('Asthenia', 'Dermatitis'), 848],\n",
       " [('Asthenia', 'Rash'), 847],\n",
       " [('Dizziness', 'Rash', 'Dermatitis', 'Headache', 'Nausea'), 846],\n",
       " [('Hypersensitivity', 'Dermatitis'), 844],\n",
       " [('Diarrhoea', 'Rash', 'Dermatitis', 'Vomiting', 'Nausea'), 843],\n",
       " [('Pruritus', 'Vomiting', 'Nausea'), 843],\n",
       " [('Asthenia', 'Dizziness', 'Nausea'), 841],\n",
       " [('Asthenia', 'Rash', 'Dermatitis'), 839],\n",
       " [('Dizziness', 'Vomiting', 'Dermatitis'), 839],\n",
       " [('Diarrhoea', 'Dizziness', 'Headache'), 839],\n",
       " [('Pruritus', 'Dermatitis', 'Nausea'), 836],\n",
       " [('Diarrhoea', 'Dermatitis', 'Headache'), 836],\n",
       " [('Hypersensitivity', 'Rash'), 835],\n",
       " [('Dizziness', 'Vomiting', 'Dermatitis', 'Nausea'), 834],\n",
       " [('Dizziness', 'Vomiting', 'Rash'), 834],\n",
       " [('Pruritus', 'Rash', 'Nausea'), 833],\n",
       " [('Asthenia', 'Dizziness', 'Headache'), 833],\n",
       " [('Gastrointestinal pain', 'Abdominal pain'), 831],\n",
       " [('Diarrhoea', 'Rash', 'Headache'), 830],\n",
       " [('Dizziness', 'Vomiting', 'Rash', 'Nausea'), 829],\n",
       " [('Dizziness', 'Vomiting', 'Rash', 'Dermatitis'), 829],\n",
       " [('Hypersensitivity', 'Rash', 'Dermatitis'), 827],\n",
       " [('Diarrhoea', 'Rash', 'Dermatitis', 'Headache'), 826],\n",
       " [('Pruritus', 'Headache', 'Nausea'), 825],\n",
       " [('Pruritus', 'Rash', 'Dermatitis', 'Nausea'), 825],\n",
       " [('Abdominal pain', 'Vomiting'), 824],\n",
       " [('Asthenia', 'Diarrhoea'), 824],\n",
       " [('Dizziness', 'Vomiting', 'Rash', 'Dermatitis', 'Nausea'), 824],\n",
       " [('Asthenia', 'Dermatitis', 'Nausea'), 824],\n",
       " [('Pruritus', 'Dizziness'), 824],\n",
       " [('Asthenia', 'Rash', 'Nausea'), 822],\n",
       " [('Diarrhoea', 'Dermatitis', 'Headache', 'Nausea'), 821],\n",
       " [('Hypersensitivity', 'Headache'), 821],\n",
       " [('Abdominal pain', 'Vomiting', 'Nausea'), 818],\n",
       " [('Diarrhoea', 'Dizziness', 'Headache', 'Nausea'), 817],\n",
       " [('Hypersensitivity', 'Vomiting'), 815],\n",
       " [('Asthenia', 'Rash', 'Dermatitis', 'Nausea'), 815],\n",
       " [('Diarrhoea', 'Dizziness', 'Vomiting'), 814],\n",
       " [('Diarrhoea', 'Rash', 'Headache', 'Nausea'), 814],\n",
       " [('Gastrointestinal pain', 'Nausea'), 813],\n",
       " [('Diarrhoea', 'Rash', 'Dermatitis', 'Headache', 'Nausea'), 811],\n",
       " [('Diarrhoea', 'Dizziness', 'Vomiting', 'Nausea'), 810],\n",
       " [('Hypersensitivity', 'Vomiting', 'Nausea'), 808],\n",
       " [('Urticaria', 'Nausea'), 807],\n",
       " [('Gastrointestinal pain', 'Abdominal pain', 'Nausea'), 807],\n",
       " [('Abdominal pain', 'Diarrhoea'), 805],\n",
       " [('Abdominal pain', 'Headache'), 805],\n",
       " [('Asthenia', 'Diarrhoea', 'Nausea'), 804],\n",
       " [('Asthenia', 'Dizziness', 'Headache', 'Nausea'), 799],\n",
       " [('Asthenia', 'Vomiting', 'Headache'), 799],\n",
       " [('Dizziness', 'Vomiting', 'Dermatitis', 'Headache'), 798],\n",
       " [('Asthenia', 'Dermatitis', 'Headache'), 796],\n",
       " [('Body temperature increased', 'Nausea'), 796],\n",
       " [('Asthenia', 'Rash', 'Headache'), 794],\n",
       " [('Dizziness', 'Vomiting', 'Dermatitis', 'Headache', 'Nausea'), 794],\n",
       " [('Asthenia', 'Vomiting', 'Headache', 'Nausea'), 793],\n",
       " [('Pruritus', 'Dizziness', 'Nausea'), 793],\n",
       " [('Dizziness', 'Vomiting', 'Rash', 'Headache'), 793],\n",
       " [('Diarrhoea', 'Dizziness', 'Dermatitis'), 792],\n",
       " [('Pruritus', 'Headache', 'Dermatitis'), 790],\n",
       " [('Pruritus', 'Diarrhoea'), 790],\n",
       " [('Abdominal pain', 'Dermatitis'), 789],\n",
       " [('Pruritus', 'Vomiting', 'Dermatitis'), 789],\n",
       " [('Dizziness', 'Vomiting', 'Rash', 'Headache', 'Nausea'), 789],\n",
       " [('Dizziness', 'Vomiting', 'Rash', 'Dermatitis', 'Headache'), 789],\n",
       " [('Hypersensitivity', 'Dermatitis', 'Nausea'), 788],\n",
       " [('Diarrhoea', 'Dermatitis', 'Headache', 'Vomiting'), 788],\n",
       " [('Asthenia', 'Rash', 'Dermatitis', 'Headache'), 788],\n",
       " [('Abdominal pain', 'Diarrhoea', 'Nausea'), 786],\n",
       " [('Asthenia', 'Vomiting', 'Dizziness'), 786],\n",
       " [('Abdominal pain', 'Rash'), 786],\n",
       " [('Pruritus', 'Headache', 'Rash'), 785],\n",
       " [('Diarrhoea', 'Dizziness', 'Rash'), 785],\n",
       " [('Dizziness', 'Vomiting', 'Rash', 'Dermatitis', 'Headache', 'Nausea'), 785],\n",
       " [('Hypersensitivity', 'Headache', 'Nausea'), 784],\n",
       " [('Abdominal pain', 'Headache', 'Nausea'), 784],\n",
       " [('Diarrhoea', 'Dermatitis', 'Headache', 'Vomiting', 'Nausea'), 784],\n",
       " [('Gastrointestinal pain', 'Vomiting'), 783],\n",
       " [('Pruritus', 'Vomiting', 'Rash'), 782],\n",
       " [('Diarrhoea', 'Dizziness', 'Rash', 'Dermatitis'), 782],\n",
       " [('Hypersensitivity', 'Rash', 'Nausea'), 782],\n",
       " [('Diarrhoea', 'Rash', 'Headache', 'Vomiting'), 782],\n",
       " [('Pruritus', 'Dizziness', 'Headache'), 781],\n",
       " [('Pruritus', 'Vomiting', 'Dermatitis', 'Nausea'), 781],\n",
       " [('Abdominal pain', 'Rash', 'Dermatitis'), 780],\n",
       " [('Asthenia', 'Vomiting', 'Dizziness', 'Nausea'), 780],\n",
       " [('Diarrhoea', 'Dizziness', 'Dermatitis', 'Nausea'), 780],\n",
       " [('Hypersensitivity', 'Dizziness'), 779],\n",
       " [('Asthenia', 'Dermatitis', 'Vomiting'), 779],\n",
       " [('Gastrointestinal pain', 'Vomiting', 'Nausea'), 779],\n",
       " [('Diarrhoea', 'Rash', 'Dermatitis', 'Headache', 'Vomiting'), 779],\n",
       " [('Pruritus', 'Headache', 'Rash', 'Dermatitis'), 778],\n",
       " [('Asthenia', 'Dermatitis', 'Dizziness'), 778],\n",
       " [('Diarrhoea', 'Rash', 'Headache', 'Vomiting', 'Nausea'), 778]]"
      ]
     },
     "execution_count": 51,
     "metadata": {},
     "output_type": "execute_result"
    }
   ],
   "source": [
    "df_fi_eclat.values.tolist()"
   ]
  },
  {
   "cell_type": "code",
   "execution_count": 52,
   "id": "adaptive-medication",
   "metadata": {},
   "outputs": [
    {
     "data": {
      "text/plain": [
       "[('Rash', 'Dermatitis'), 1158]"
      ]
     },
     "execution_count": 52,
     "metadata": {},
     "output_type": "execute_result"
    }
   ],
   "source": [
    "df_fi_eclat.values.tolist()[0]"
   ]
  },
  {
   "cell_type": "code",
   "execution_count": 53,
   "id": "compatible-sweden",
   "metadata": {},
   "outputs": [
    {
     "data": {
      "text/plain": [
       "[('Diarrhoea', 'Rash', 'Headache', 'Vomiting', 'Nausea'), 778]"
      ]
     },
     "execution_count": 53,
     "metadata": {},
     "output_type": "execute_result"
    }
   ],
   "source": [
    "df_fi_eclat.values.tolist()[-1]"
   ]
  },
  {
   "cell_type": "markdown",
   "id": "latter-acrylic",
   "metadata": {},
   "source": [
    "# Фиксированный набор данных, изменяемый порог поддержки"
   ]
  },
  {
   "cell_type": "code",
   "execution_count": 22,
   "id": "disciplinary-maintenance",
   "metadata": {},
   "outputs": [],
   "source": [
    "supps = [21,25,30,40,50,60,70,74]\n",
    "\n",
    "a = []\n",
    "fp = []\n",
    "e = []\n",
    "\n",
    "fi_fpgrowth=[]\n",
    "\n",
    "fr_it_set_size = []          # 2\n",
    "fi_it_set_max_len = []       # 3\n",
    "num_of_unique_fr_it_set = [] # 4"
   ]
  },
  {
   "cell_type": "code",
   "execution_count": 23,
   "id": "magnetic-emerald",
   "metadata": {},
   "outputs": [],
   "source": [
    "for supp in supps:\n",
    "    start_a = time.perf_counter()\n",
    "    fi_apriori = apriori(tracts=transactions, target=target, supp=supp, conf=confidence, zmin=zmin)\n",
    "    end_a = time.perf_counter()\n",
    "    \n",
    "    start_fp = time.perf_counter()\n",
    "    fi_fpgrowth = fpgrowth(tracts=transactions, target=target, supp=supp, conf=confidence, zmin=zmin)\n",
    "    end_fp = time.perf_counter()\n",
    "    \n",
    "    ####\n",
    "    \n",
    "    fr_it_set_size.append(len(fi_fpgrowth))\n",
    "    \n",
    "    size=[0,]\n",
    "    for i in range(len(fi_fpgrowth)):\n",
    "        size.append(len(fi_fpgrowth[i][0]))\n",
    "    fi_it_set_max_len.append(max(size))\n",
    "    \n",
    "    size=[]\n",
    "    for i in range(len(fi_fpgrowth)):\n",
    "        size.append(len(fi_fpgrowth[i][0]))     \n",
    "    num_of_unique_fr_it_set.append(len(set(size)))\n",
    "    \n",
    "    ####\n",
    "    \n",
    "    start_e = time.perf_counter()\n",
    "    fi_e = eclat(tracts=transactions, target=target, supp=supp, conf=confidence, zmin=zmin)\n",
    "    end_e = time.perf_counter()\n",
    "    \n",
    "    a.append(end_a-start_a)\n",
    "    fp.append(end_fp-start_fp)\n",
    "    e.append(end_e-start_e)"
   ]
  },
  {
   "cell_type": "markdown",
   "id": "undefined-making",
   "metadata": {},
   "source": [
    "### 1. Сравнение быстродействия алгоритмов "
   ]
  },
  {
   "cell_type": "code",
   "execution_count": 24,
   "id": "expected-petite",
   "metadata": {},
   "outputs": [
    {
     "data": {
      "image/png": "[encoded data removed]",
      "text/plain": [
       "<Figure size 1080x720 with 1 Axes>"
      ]
     },
     "metadata": {
      "needs_background": "light"
     },
     "output_type": "display_data"
    }
   ],
   "source": [
    "plt.plot(supps, a, label = \"Apriori\")\n",
    "plt.plot(supps, fp, label = \"FP-Growth\")\n",
    "plt.plot(supps, e, label = \"ECLAT\")\n",
    "\n",
    "plt.xlabel('Support (%)')\n",
    "plt.ylabel('Time taken (sec)')\n",
    "plt.title('Algorithm comparison')\n",
    "plt.legend(loc='best')\n",
    "\n",
    "fig = plt.gcf()\n",
    "fig.set_size_inches(15,10) \n",
    "\n",
    "plt.show()"
   ]
  },
  {
   "cell_type": "code",
   "execution_count": 25,
   "id": "rolled-cooler",
   "metadata": {},
   "outputs": [
    {
     "name": "stdout",
     "output_type": "stream",
     "text": [
      "Apriori:    FP-Growth:   ECLAT:\n",
      "  10.94          1.15     1.61\n",
      "   1.40          0.34     0.29\n",
      "   0.26          0.05     0.06\n",
      "   0.03          0.02     0.02\n",
      "   0.02          0.02     0.02\n",
      "   0.02          0.02     0.02\n",
      "   0.02          0.02     0.02\n",
      "   0.02          0.02     0.02\n"
     ]
    }
   ],
   "source": [
    "print(\"Apriori:    FP-Growth:   ECLAT:\")\n",
    "for i in range(len(a)):\n",
    "    print( \"{:7.2f} {:13.2f} {:8.2f}\".format(a[i],fp[i],e[i]) )"
   ]
  },
  {
   "cell_type": "markdown",
   "id": "authentic-sequence",
   "metadata": {},
   "source": [
    "### 2. Общее количество частых наборов объектов"
   ]
  },
  {
   "cell_type": "code",
   "execution_count": 26,
   "id": "reliable-leadership",
   "metadata": {},
   "outputs": [
    {
     "data": {
      "image/png": "[encoded data removed]",
      "text/plain": [
       "<Figure size 1080x720 with 1 Axes>"
      ]
     },
     "metadata": {
      "needs_background": "light"
     },
     "output_type": "display_data"
    }
   ],
   "source": [
    "plt.plot(supps, fr_it_set_size, color='red', lw=2)\n",
    "\n",
    "plt.xlabel('Support')\n",
    "plt.ylabel('Number of frequent item sets')\n",
    "plt.title('Impact of changes in support on item set size')\n",
    "plt.yscale('log')\n",
    "\n",
    "fig = plt.gcf()\n",
    "fig.set_size_inches(15,10) \n",
    "\n",
    "plt.show()"
   ]
  },
  {
   "cell_type": "code",
   "execution_count": 27,
   "id": "efficient-estonia",
   "metadata": {},
   "outputs": [
    {
     "name": "stdout",
     "output_type": "stream",
     "text": [
      "[21, 25, 30, 40, 50, 60, 70, 74]\n",
      "[2025244, 237675, 30273, 1568, 172, 30, 3, 1]\n"
     ]
    }
   ],
   "source": [
    "print(supps)\n",
    "print(fr_it_set_size)"
   ]
  },
  {
   "cell_type": "markdown",
   "id": "cultural-basketball",
   "metadata": {},
   "source": [
    "### 3. Максимальная длина частого набора объектов"
   ]
  },
  {
   "cell_type": "code",
   "execution_count": 28,
   "id": "herbal-recovery",
   "metadata": {},
   "outputs": [
    {
     "data": {
      "image/png": "[encoded data removed]",
      "text/plain": [
       "<Figure size 1080x720 with 1 Axes>"
      ]
     },
     "metadata": {
      "needs_background": "light"
     },
     "output_type": "display_data"
    }
   ],
   "source": [
    "plt.plot(supps, fi_it_set_max_len, color='green', lw=2)\n",
    "\n",
    "plt.xlabel('Support')\n",
    "plt.ylabel('Max item set size')\n",
    "plt.title('Impact of changes in support on item set max size')\n",
    "\n",
    "fig = plt.gcf()\n",
    "fig.set_size_inches(15,10) \n",
    "\n",
    "plt.show()"
   ]
  },
  {
   "cell_type": "markdown",
   "id": "floppy-bullet",
   "metadata": {},
   "source": [
    "### 4. Количество частых наборов объектов различной длины"
   ]
  },
  {
   "cell_type": "code",
   "execution_count": 29,
   "id": "external-dividend",
   "metadata": {},
   "outputs": [
    {
     "data": {
      "image/png": "[encoded data removed]",
      "text/plain": [
       "<Figure size 1080x720 with 1 Axes>"
      ]
     },
     "metadata": {
      "needs_background": "light"
     },
     "output_type": "display_data"
    }
   ],
   "source": [
    "plt.plot(supps, num_of_unique_fr_it_set, lw=2)\n",
    "\n",
    "plt.xlabel('Support')\n",
    "plt.ylabel('Unique item set number')\n",
    "plt.title('Impact of changes in support on unique item set number')\n",
    "\n",
    "fig = plt.gcf()\n",
    "fig.set_size_inches(15,10) \n",
    "\n",
    "plt.show()"
   ]
  },
  {
   "cell_type": "markdown",
   "id": "general-spell",
   "metadata": {},
   "source": [
    "### Some other data (useless for current task?)"
   ]
  },
  {
   "cell_type": "code",
   "execution_count": 30,
   "id": "allied-berry",
   "metadata": {},
   "outputs": [],
   "source": [
    "# not so useful, but you can exclude placebo\n",
    "pd.read_csv('./side_effects/meddra_freq.tsv', sep='\\t', header=None, \n",
    "            names=['id_1', 'id_2', 'UMLS_id', 'placebo', 'frequency', \n",
    "                   'lower_bound', 'upper_bound', 'MedDRA_type', 'UMLS_id_for_MedDRA', 'side_effect'])"
   ]
  },
  {
   "cell_type": "code",
   "execution_count": 31,
   "id": "dynamic-hardware",
   "metadata": {},
   "outputs": [],
   "source": [
    "pd.read_csv('./side_effects/meddra.tsv', sep='\\t', header=None, \n",
    "            names=['UMLS_id', 'MedDRA_id', 'kind of term', 'side_effect'])"
   ]
  },
  {
   "cell_type": "code",
   "execution_count": 32,
   "id": "improving-teach",
   "metadata": {},
   "outputs": [],
   "source": [
    "pd.read_csv('./side_effects/meddra_all_indications.tsv', sep='\\t', header=None, \n",
    "            names=['id_1', 'UMLS_id', 'detection_method', 'concept_name', \n",
    "                   'MedDRA_type', 'UMLS_id_for_MedDRA', 'MedDRA_concept_name'])"
   ]
  },
  {
   "cell_type": "code",
   "execution_count": 33,
   "id": "objective-pantyhose",
   "metadata": {
    "scrolled": false
   },
   "outputs": [],
   "source": [
    "# meddra_all_label_indications.tsv.gz and meddra_all_label_se.tsv.gz\n",
    "# These files contain the same data as the indications/se files, but with \n",
    "# an additional first column showing the source label.\n",
    "\n",
    "pd.read_csv('./side_effects/meddra_all_label_indications.tsv', sep='\\t', header=None)\n",
    "pd.read_csv('./side_effects/meddra_all_label_se.tsv', sep='\\t', header=None)"
   ]
  }
 ],
 "metadata": {
  "kernelspec": {
   "display_name": "Python 3",
   "language": "python",
   "name": "python3"
  },
  "language_info": {
   "codemirror_mode": {
    "name": "ipython",
    "version": 3
   },
   "file_extension": ".py",
   "mimetype": "text/x-python",
   "name": "python",
   "nbconvert_exporter": "python",
   "pygments_lexer": "ipython3",
   "version": "3.7.10"
  }
 },
 "nbformat": 4,
 "nbformat_minor": 5
}
